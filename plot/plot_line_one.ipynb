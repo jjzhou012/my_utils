{
 "cells": [
  {
   "cell_type": "code",
   "execution_count": 1,
   "id": "brutal-essex",
   "metadata": {
    "pycharm": {
     "is_executing": false
    }
   },
   "outputs": [],
   "source": [
    "import numpy as np\n",
    "import os\n",
    "from functools import reduce\n",
    "import pandas as pd\n",
    "\n",
    "import matplotlib.pyplot as plt\n",
    "\n",
    "# 设置文字、字体\n",
    "from pylab import *  # 支持中文\n",
    "\n",
    "plt.rcParams['font.sans-serif'] = ['SimHei']  # 设置字体以便支持中文\n",
    "# mpl.rcParams['font.family'] = 'Times New Roman'\n",
    "matplotlib.rcParams['axes.unicode_minus'] = False  # 正常显示负号\n",
    "\n",
    "matplotlib.rcParams['pdf.fonttype'] = 42\n",
    "matplotlib.rcParams['ps.fonttype'] = 42\n",
    "matplotlib.rcParams['text.usetex'] = True\n",
    "\n",
    "# mpl.rcParams['font.size'] = 12\n",
    "font = {'family': 'SimHei',\n",
    "        'weight': 'normal',\n",
    "        'size': 10}\n",
    "\n",
    "font1 = {'family': 'Times New Roman',\n",
    "         'weight': 'normal',\n",
    "         'size': 12}\n",
    "font_leng = {'family': 'Times New Roman',\n",
    "             'weight': 'normal',\n",
    "             'size': 10}\n",
    "\n",
    "import warnings\n",
    "\n",
    "warnings.filterwarnings('ignore')  # 取消警告\n"
   ]
  },
  {
   "cell_type": "code",
   "execution_count": 2,
   "id": "attractive-printing",
   "metadata": {
    "pycharm": {
     "is_executing": false
    }
   },
   "outputs": [],
   "source": [
    "def polt_line(axes,  # 图块\n",
    "              x,  # x轴数据\n",
    "              y,  # y轴数据\n",
    "              label,  # 曲线标签\n",
    "              x_label=None,  # x轴标签\n",
    "              x_tickslabel=None,  # x轴刻度标签\n",
    "              y_label=None,  # y轴标签\n",
    "              y_tickslabel=None,  # y轴刻度标签\n",
    "              xlims=None,  # x轴范围\n",
    "              ylims=None,  # y轴范围\n",
    "              title=None,  # 图片标题\n",
    "              point=None,  # 点的形状\n",
    "              color=None):  # 颜色\n",
    "    if xlims: axes.set_xlim(xlims[0], xlims[1])\n",
    "    if ylims: axes.set_ylim(ylims[0], ylims[1])\n",
    "    if y_label: axes.set_ylabel(y_label, font)  # font调整字体\n",
    "    if x_label: axes.set_xlabel(x_label, font1)\n",
    "\n",
    "    axes.set_xticks(x)\n",
    "\n",
    "    if x_tickslabel: axes.set_xticklabels(x_tickslabel, font)\n",
    "    if y_tickslabel: axes.set_yticklabels(y_tickslabel, font)\n",
    "    if title: axes.set_title(title, font)\n",
    "\n",
    "    axes.grid(axis=\"y\")\n",
    "\n",
    "    bwith = 1  # 图边框粗细\n",
    "    bcolor = 'black'  # 图边框颜色\n",
    "    axes.spines['bottom'].set_linewidth(bwith)\n",
    "    axes.spines['left'].set_linewidth(bwith)\n",
    "    axes.spines['top'].set_linewidth(bwith)\n",
    "    axes.spines['right'].set_linewidth(bwith)\n",
    "    axes.spines['bottom'].set_color(bcolor)\n",
    "    axes.spines['left'].set_color(bcolor)\n",
    "    axes.spines['top'].set_color(bcolor)\n",
    "    axes.spines['right'].set_color(bcolor)\n",
    "    #     print(ylims)\n",
    "    #     if text: axes.text(text_axis[0], text_axis[1], text, ha='left', size=14, color=\"k\", weight=\"light\", bbox=dict(facecolor=\"w\", alpha=0.1))\n",
    "\n",
    "    axes.plot(x, y, point,\n",
    "              linestyle='-',\n",
    "              label=label,\n",
    "              color=color,\n",
    "              markerfacecolor=color,  # 点颜色\n",
    "              ms=7,  # 点大小\n",
    "              linewidth=1.,  # 线宽度\n",
    "              markeredgecolor='white')  # 点轮廓线\n",
    "    #         all_axes[i].plot(x, all_datas['enhance'][cdm], label=cdms[j], color=colors[j], markerfacecolor='none', ms=3, linewidth=0.9)\n",
    "    #         all_axes[i].legend()\n"
   ]
  },
  {
   "cell_type": "code",
   "execution_count": 3,
   "id": "brilliant-basis",
   "metadata": {
    "pycharm": {
     "is_executing": false
    }
   },
   "outputs": [],
   "source": [
    "datasets = ['Cora', 'Citeseer', 'Pubmed']\n",
    "\n",
    "cora_auc = [0.9747, 0.9669, 0.9257, 0.9240, 0.9209, 0.9214, 0.9255, 0.9226, 0.9247]\n",
    "cora_ap = [0.9754, 0.9659, 0.9185, 0.9117, 0.9115, 0.9100, 0.9126, 0.9141, 0.9110]\n",
    "\n",
    "citeseer_auc = [0.9875, 0.9812, 0.9629, 0.9552, 0.9540, 0.9538, 0.9422, 0.9321, 0.9324]\n",
    "citeseer_ap = [0.9881, 0.9795, 0.9613, 0.9550, 0.9533, 0.9487, 0.9354, 0.9203, 0.9245]\n",
    "\n",
    "pubmed_auc = [0.9399, 0.9422, 0.9051, 0.8971, 0.9014, 0.8824, 0.8908, 0.8847, 0.8767]\n",
    "pubmed_ap = [0.9435, 0.9388, 0.8965, 0.8897, 0.8999, 0.8688, 0.8803, 0.8731, 0.8593]\n",
    "\n",
    "data_auc = [cora_auc, citeseer_auc, pubmed_auc]\n",
    "data_ap = [cora_ap, citeseer_ap, pubmed_ap]\n",
    "\n",
    "# 定义其他信息\n",
    "x = np.arange(1, 10, 1)\n",
    "xlims = (0, 11)\n",
    "x_ticks_list = np.arange(2, 11).tolist()\n",
    "y_ticks_list = ['0.79', '0.82', '0.85', '0.88', '0.91', '0.94', '0.97', '1.00']\n",
    "y_lims = [0.84, 1.00]\n",
    "\n",
    "x_label = 'Number of sampled neighbors\\n in hop 1 for each node ' + r'$(K_1)$'\n",
    "y_label = 'Metric'\n",
    "\n",
    "metric_list = ['AUC', 'AP']\n",
    "colors = ['purple', '#E5AE48', 'blue']\n",
    "points = ['o-', 'P-', 's-', '^-', 'x-']"
   ]
  },
  {
   "cell_type": "code",
   "execution_count": 4,
   "id": "appointed-desktop",
   "metadata": {
    "pycharm": {
     "name": "#%%\n",
     "is_executing": false
    }
   },
   "outputs": [
    {
     "data": {
      "text/plain": "<Figure size 288x288 with 1 Axes>",
      "image/png": "[encoded data removed]"
     },
     "metadata": {
      "needs_background": "light"
     },
     "output_type": "display_data"
    }
   ],
   "source": [
    "# 画图\n",
    "\n",
    "fig_1, all_axes_1 = plt.subplots(1, 1, figsize=(4, 4))\n",
    "\n",
    "# plt.style.use(\"bmh\")\n",
    "labels = [('Cora-AUC', 'Cora-AP'), ('Citeseer-AUC', 'Citeseer-AP'), ('Pubmed-AUC', 'Pubmed-AP')]\n",
    "\n",
    "for i in range(len(datasets)):\n",
    "    polt_line(axes=all_axes_1, x=x, y=data_auc[i], label=labels[i][0], x_label=True, y_label='Metric', y_tickslabel=None,\n",
    "              ylims=y_lims, xlims=xlims, point=points[i], color=colors[2])\n",
    "    polt_line(axes=all_axes_1, x=x, y=data_ap[i], label=labels[i][1], x_label=True, y_label='Metric', y_tickslabel=None,\n",
    "              ylims=y_lims, xlims=xlims, point=points[i], color=colors[1])\n",
    "\n",
    "plt.tight_layout(pad=1.5, h_pad=0.18, w_pad=0.26, rect=None)\n",
    "plt.subplots_adjust(top=0.9, bottom=0.16, hspace=0.12, wspace=0.26)\n",
    "plt.legend(bbox_to_anchor=(-0.47, 0.6, 2.0, .35), loc='best',\n",
    "           ncol=1, mode=\"\", borderaxespad=0., prop=font, labelspacing=2)\n",
    "plt.savefig('image/line.pdf', bbox_inches='tight')\n",
    "\n",
    "plt.show()\n"
   ]
  }
 ],
 "metadata": {
  "kernelspec": {
   "name": "pycharm-dd40013f",
   "language": "python",
   "display_name": "PyCharm (gclp)"
  },
  "language_info": {
   "codemirror_mode": {
    "name": "ipython",
    "version": 3
   },
   "file_extension": ".py",
   "mimetype": "text/x-python",
   "name": "python",
   "nbconvert_exporter": "python",
   "pygments_lexer": "ipython3",
   "version": "3.7.9"
  },
  "pycharm": {
   "stem_cell": {
    "cell_type": "raw",
    "source": [],
    "metadata": {
     "collapsed": false
    }
   }
  }
 },
 "nbformat": 4,
 "nbformat_minor": 5
}