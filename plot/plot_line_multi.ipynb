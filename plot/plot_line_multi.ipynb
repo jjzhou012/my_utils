{
 "cells": [
  {
   "cell_type": "code",
   "execution_count": 13,
   "id": "brutal-essex",
   "metadata": {
    "ExecuteTime": {
     "end_time": "2021-11-22T10:54:15.532837Z",
     "start_time": "2021-11-22T10:54:15.524816Z"
    },
    "pycharm": {
     "is_executing": false
    }
   },
   "outputs": [],
   "source": [
    "import numpy as np\n",
    "import os\n",
    "from functools import reduce\n",
    "import pandas as pd\n",
    "\n",
    "import matplotlib.pyplot as plt\n",
    "\n",
    "# 设置文字、字体\n",
    "from pylab import *  # 支持中文\n",
    "\n",
    "plt.rcParams['font.sans-serif'] = ['SimHei']  # 设置字体以便支持中文\n",
    "# mpl.rcParams['font.family'] = 'Times New Roman'\n",
    "matplotlib.rcParams['axes.unicode_minus'] = False  # 正常显示负号\n",
    "\n",
    "matplotlib.rcParams['pdf.fonttype'] = 42\n",
    "matplotlib.rcParams['ps.fonttype'] = 42\n",
    "matplotlib.rcParams['text.usetex'] = True\n",
    "\n",
    "# mpl.rcParams['font.size'] = 12\n",
    "font = {'family': 'SimHei',\n",
    "        'weight': 'normal',\n",
    "        'size': 10}\n",
    "\n",
    "font1 = {'family': 'Times New Roman',\n",
    "         'weight': 'normal',\n",
    "         'size': 12}\n",
    "font_leng = {'family': 'Times New Roman',\n",
    "             'weight': 'normal',\n",
    "             'size': 10}\n",
    "\n",
    "import warnings\n",
    "\n",
    "warnings.filterwarnings('ignore')  # 取消警告\n"
   ]
  },
  {
   "cell_type": "code",
   "execution_count": 14,
   "id": "attractive-printing",
   "metadata": {
    "ExecuteTime": {
     "end_time": "2021-11-22T10:54:15.552781Z",
     "start_time": "2021-11-22T10:54:15.543803Z"
    },
    "pycharm": {
     "is_executing": false
    }
   },
   "outputs": [],
   "source": [
    "def polt_line(axes,  # 图块\n",
    "              x,  # x轴数据\n",
    "              y,  # y轴数据\n",
    "              label,  # 曲线标签\n",
    "              x_label=None,  # x轴标签\n",
    "              x_tickslabel=None,  # x轴刻度标签\n",
    "              y_label=None,  # y轴标签\n",
    "              y_tickslabel=None,  # y轴刻度标签\n",
    "              xlims=None,  # x轴范围\n",
    "              ylims=None,  # y轴范围\n",
    "              title=None,  # 图片标题\n",
    "              point=None,  # 点的形状\n",
    "              color=None):  # 颜色\n",
    "    if xlims: axes.set_xlim(xlims[0], xlims[1])\n",
    "    if ylims: axes.set_ylim(ylims[0], ylims[1])\n",
    "    if y_label: axes.set_ylabel(y_label, font)  # font调整字体\n",
    "    if x_label: axes.set_xlabel(x_label, font1)\n",
    "\n",
    "    axes.set_xticks(x)\n",
    "\n",
    "    if x_tickslabel: axes.set_xticklabels(x_tickslabel, font)\n",
    "    if y_tickslabel: axes.set_yticklabels(y_tickslabel, font)\n",
    "    if title: axes.set_title(title, font)\n",
    "\n",
    "    axes.grid(axis=\"y\")\n",
    "\n",
    "    bwith = 1  # 图边框粗细\n",
    "    bcolor = 'black'  # 图边框颜色\n",
    "    axes.spines['bottom'].set_linewidth(bwith)\n",
    "    axes.spines['left'].set_linewidth(bwith)\n",
    "    axes.spines['top'].set_linewidth(bwith)\n",
    "    axes.spines['right'].set_linewidth(bwith)\n",
    "    axes.spines['bottom'].set_color(bcolor)\n",
    "    axes.spines['left'].set_color(bcolor)\n",
    "    axes.spines['top'].set_color(bcolor)\n",
    "    axes.spines['right'].set_color(bcolor)\n",
    "    #     print(ylims)\n",
    "    #     if text: axes.text(text_axis[0], text_axis[1], text, ha='left', size=14, color=\"k\", weight=\"light\", bbox=dict(facecolor=\"w\", alpha=0.1))\n",
    "\n",
    "    axes.plot(x, y, point,\n",
    "              linestyle='-',\n",
    "              label=label,\n",
    "              color=color,\n",
    "              markerfacecolor=color,  # 点颜色\n",
    "              ms=7,  # 点大小\n",
    "              linewidth=1.,  # 线宽度\n",
    "              markeredgecolor='white')  # 点轮廓线\n",
    "    #         all_axes[i].plot(x, all_datas['enhance'][cdm], label=cdms[j], color=colors[j], markerfacecolor='none', ms=3, linewidth=0.9)\n",
    "    #         all_axes[i].legend()\n"
   ]
  },
  {
   "cell_type": "code",
   "execution_count": 15,
   "id": "85dccb0e",
   "metadata": {
    "ExecuteTime": {
     "end_time": "2021-11-22T10:54:15.564751Z",
     "start_time": "2021-11-22T10:54:15.560721Z"
    }
   },
   "outputs": [],
   "source": [
    "# 绘图参数 & 公共参数\n",
    "colors = ['purple', '#E5AE48', 'blue']\n",
    "points = ['o-', 'P-', 's-', '^-', 'x-']\n",
    "\n",
    "metric_list = ['AUC', 'AP']"
   ]
  },
  {
   "cell_type": "code",
   "execution_count": 16,
   "id": "brilliant-basis",
   "metadata": {
    "ExecuteTime": {
     "end_time": "2021-11-22T10:54:15.583697Z",
     "start_time": "2021-11-22T10:54:15.576685Z"
    },
    "pycharm": {
     "is_executing": false
    }
   },
   "outputs": [],
   "source": [
    "# data 1\n",
    "datasets = ['Cora', 'Citeseer', 'Pubmed', 'Facebook', 'Github']\n",
    "\n",
    "cora_auc_lambda = [0.9495, 0.9541, 0.9605, 0.9555, 0.9406, 0.9095, 0.8781]\n",
    "cora_ap_lambda = [0.9507, 0.9568, 0.9628, 0.9563, 0.9418, 0.9095, 0.8740]\n",
    "# ,,,,\n",
    "citeseer_auc_lambda = [0.9307, 0.9335, 0.9450, 0.9426, 0.9167, 0.8723, 0.8313]\n",
    "citeseer_ap_lambda = [0.9383, 0.9400, 0.9520, 0.9501, 0.9266, 0.8759, 0.8378]\n",
    "# ,,,,\n",
    "pubmed_auc_lambda = [0.9752, 0.9779, 0.9808, 0.9811, 0.9812, 0.9761, 0.9619]\n",
    "pubmed_ap_lambda = [0.9692, 0.9771, 0.9759, 0.9777, 0.9794, 0.9731, 0.9541]\n",
    "#\n",
    "facebook_auc_lambda = [0.9323, 0.9456, 0.9218, 0.9098, 0.9111, 0.9106, 0.9088, 0.9067, 0.9049]\n",
    "facebook_ap_lambda = [0.9367, 0.9494, 0.9260, 0.9105, 0.9124, 0.9119, 0.9081, 0.9074, 0.9058]\n",
    "\n",
    "github_auc_lambda = [0.7407, 0.7741, 0.7350, 0.7157, 0.7392, 0.7626, 0.7837, 0.7963, 0.8183]\n",
    "github_ap_lambda = [0.7294, 0.7620, 0.7316, 0.7021, 0.7247, 0.7521, 0.7836, 0.7968, 0.8184]\n",
    "\n",
    "data_auc_lambda = [cora_auc_lambda, citeseer_auc_lambda, pubmed_auc_lambda, facebook_auc_lambda, github_auc_lambda]\n",
    "data_ap_lambda = [cora_ap_lambda, citeseer_ap_lambda, pubmed_ap_lambda, facebook_ap_lambda, github_ap_lambda]\n",
    "\n",
    "x1 = np.arange(1, 8, 1)\n",
    "x1_lims = (0, 9)\n",
    "x1_ticks_list = [r'$10^{-3}$', r'$10^{-2}$', r'$10^{-1}$', 1, r'$10^1$', r'$10^2$', r'$10^3$']\n",
    "\n",
    "y1_lims = [0.82, 1.00]\n",
    "y1_ticks_list = ['0.79', '0.82', '0.85', '0.88', '0.91', '0.94', '0.97', '1.00']\n",
    "\n",
    "x1_label = 'Trade-off coefficient ' r'$(\\lambda)$'\n",
    "y1_label = 'Metric'\n"
   ]
  },
  {
   "cell_type": "code",
   "execution_count": 17,
   "id": "appointed-desktop",
   "metadata": {
    "ExecuteTime": {
     "end_time": "2021-11-22T10:54:15.604642Z",
     "start_time": "2021-11-22T10:54:15.595664Z"
    },
    "pycharm": {
     "is_executing": false,
     "name": "#%%\n"
    }
   },
   "outputs": [],
   "source": [
    "# data 2\n",
    "cora_auc_trainNum = [0.9595, 0.9552, 0.9530, 0.9505, 0.9443, 0.9311, 0.9156, 0.8990, 0.8704, 0.8593]\n",
    "cora_ap_trainNum = [0.9633, 0.9567, 0.9528, 0.9506, 0.9446, 0.9277, 0.9128, 0.8942, 0.8523, 0.8437]\n",
    "\n",
    "citeseer_auc_trainNum = [0.9474, 0.9436, 0.9421, 0.9436, 0.9441, 0.9440, 0.9443, 0.9445, 0.9432, 0.9423]\n",
    "citeseer_ap_trainNum = [0.9524, 0.9508, 0.9494, 0.9504, 0.9500, 0.9516, 0.9511, 0.9515, 0.9499, 0.9494]\n",
    "\n",
    "pubmed_auc_trainNum = [0.9836, 0.9813, 0.9813, 0.9817, 0.9821, 0.9807, 0.9819, 0.9812, 0.9803, 0.9818]\n",
    "pubmed_ap_trainNum = [0.9825, 0.9773, 0.9779, 0.9784, 0.9796, 0.9769, 0.9787, 0.9777, 0.9773, 0.9782]\n",
    "\n",
    "facebook_auc_trainNum = [0.9323, 0.9456, 0.9218, 0.9098, 0.9111, 0.9106, 0.9088, 0.9067, 0.9049]\n",
    "facebook_ap_trainNum = [0.9367, 0.9494, 0.9260, 0.9105, 0.9124, 0.9119, 0.9081, 0.9074, 0.9058]\n",
    "\n",
    "github_auc_trainNum = [0.7407, 0.7741, 0.7350, 0.7157, 0.7392, 0.7626, 0.7837, 0.7963, 0.8183]\n",
    "github_ap_trainNum = [0.7294, 0.7620, 0.7316, 0.7021, 0.7247, 0.7521, 0.7836, 0.7968, 0.8184]\n",
    "\n",
    "data_auc_trainNum = [cora_auc_trainNum, citeseer_auc_trainNum, pubmed_auc_trainNum, facebook_auc_trainNum, github_auc_trainNum]\n",
    "data_ap_trainNum = [cora_ap_trainNum, citeseer_ap_trainNum, pubmed_ap_trainNum, facebook_ap_trainNum, github_ap_trainNum]\n",
    "\n",
    "x2 = np.arange(1, 11, 1)\n",
    "x2_lims = (0, 12)\n",
    "x2_ticks_list = [0.1, 0.2, 0.3, 0.4, 0.5, 0.6, 0.7, 0.8, 0.9, 1.0]\n",
    "\n",
    "y2_lims = [0.82, 1.00]\n",
    "y2_ticks_list = ['0.79', '0.82', '0.85', '0.88', '0.91', '0.94', '0.97', '1.00']\n",
    "\n",
    "x2_label = 'Scale of training set'\n",
    "y2_label = 'Metric'"
   ]
  },
  {
   "cell_type": "code",
   "execution_count": 18,
   "id": "006f7dcb",
   "metadata": {
    "ExecuteTime": {
     "end_time": "2021-11-22T10:54:15.622592Z",
     "start_time": "2021-11-22T10:54:15.614608Z"
    }
   },
   "outputs": [],
   "source": [
    "# data 3\n",
    "cora_auc_sizeNum = [0.9513, 0.9518, 0.9522, 0.9534, 0.9533, 0.9528, 0.9557, 0.9560, 0.9562]\n",
    "cora_ap_sizeNum = [0.9520, 0.9543, 0.9554, 0.9560, 0.9556, 0.9555, 0.9591, 0.9572, 0.9579]\n",
    "\n",
    "citeseer_auc_sizeNum = [0.9375, 0.9401, 0.9404, 0.9402, 0.9418, 0.9444, 0.9425, 0.9428, 0.9442]\n",
    "citeseer_ap_sizeNum = [0.9476, 0.9497, 0.9492, 0.9485, 0.9497, 0.9519, 0.9498, 0.9511, 0.9524]\n",
    "\n",
    "pubmed_auc_sizeNum = [0.9745, 0.9766, 0.9767, 0.9771, 0.9794, 0.9788, 0.9821, 0.9816, 0.9816]\n",
    "pubmed_ap_sizeNum = [0.9730, 0.9756, 0.9741, 0.9732, 0.9770, 0.9753, 0.9797, 0.9791, 0.9791]\n",
    "facebook_auc_sizeNum = [0.9323, 0.9456, 0.9218, 0.9098, 0.9111, 0.9106, 0.9088, 0.9067, 0.9049]\n",
    "facebook_ap_sizeNum = [0.9367, 0.9494, 0.9260, 0.9105, 0.9124, 0.9119, 0.9081, 0.9074, 0.9058]\n",
    "\n",
    "github_auc_sizeNum = [0.7407, 0.7741, 0.7350, 0.7157, 0.7392, 0.7626, 0.7837, 0.7963, 0.8183]\n",
    "github_ap_sizeNum = [0.7294, 0.7620, 0.7316, 0.7021, 0.7247, 0.7521, 0.7836, 0.7968, 0.8184]\n",
    "\n",
    "data_auc_sizeNum = [cora_auc_sizeNum, citeseer_auc_sizeNum, pubmed_auc_sizeNum, facebook_auc_sizeNum, github_auc_sizeNum]\n",
    "data_ap_sizeNum = [cora_ap_sizeNum, citeseer_ap_sizeNum, pubmed_ap_sizeNum, facebook_ap_sizeNum, github_ap_sizeNum]\n",
    "\n",
    "x3 = np.arange(1, 10, 1)\n",
    "x3_lims = (0, 11)\n",
    "x3_ticks_list = np.arange(2, 11).tolist()\n",
    "\n",
    "y3_lims = (0.90, 1.00)\n",
    "y3_ticks_list = ['0.79', '0.82', '0.85', '0.88', '0.91', '0.94', '0.97', '1.00']\n",
    "\n",
    "x3_label = 'Number of sampled neighbors\\n in hop 1 for each node ' + r'$(K_1)$'\n",
    "y3_label = 'Metric'"
   ]
  },
  {
   "cell_type": "code",
   "execution_count": 20,
   "id": "c3ca10e4",
   "metadata": {
    "ExecuteTime": {
     "end_time": "2021-11-22T10:54:52.017268Z",
     "start_time": "2021-11-22T10:54:50.767587Z"
    }
   },
   "outputs": [
    {
     "data": {
      "image/png": "[encoded data removed]",
      "text/plain": [
       "<Figure size 792x216 with 3 Axes>"
      ]
     },
     "metadata": {
      "needs_background": "light"
     },
     "output_type": "display_data"
    }
   ],
   "source": [
    "# 画图\n",
    "\n",
    "fig_1, all_axes_1 = plt.subplots(1, 3, figsize=(11, 3))\n",
    "\n",
    "# plt.style.use(\"bmh\")\n",
    "labels = [('Cora-AUC', 'Cora-AP'), ('Citeseer-AUC', 'Citeseer-AP'), ('Pubmed-AUC', 'Pubmed-AP'), ('Facebook-AUC', 'Facebook-AP'),\n",
    "          ('Github-AUC', 'Github-AP')]\n",
    "\n",
    "# y_ticks_list = None\n",
    "for i in range(3):\n",
    "    polt_line(axes=all_axes_1[0], x=x1, y=data_auc_lambda[i], label=labels[i][0], x_label=x1_label, x_tickslabel=x1_ticks_list,\n",
    "              y_label='Metric', y_tickslabel=None, ylims=y1_lims, xlims=x1_lims, point=points[i], color=colors[2])\n",
    "    polt_line(axes=all_axes_1[0], x=x1, y=data_ap_lambda[i], label=labels[i][1], x_label=x1_label, x_tickslabel=x1_ticks_list,\n",
    "              y_label='Metric', y_tickslabel=None, ylims=y1_lims, xlims=x1_lims, point=points[i], color=colors[1])\n",
    "\n",
    "for i in range(3):\n",
    "    polt_line(axes=all_axes_1[1], x=x2, y=data_auc_trainNum[i], label=labels[i][0], x_label=x2_label, x_tickslabel=x2_ticks_list,\n",
    "              y_label=None, y_tickslabel=None, ylims=y2_lims, xlims=x2_lims, point=points[i], color=colors[2])\n",
    "    polt_line(axes=all_axes_1[1], x=x2, y=data_ap_trainNum[i], label=labels[i][1], x_label=x2_label, x_tickslabel=x2_ticks_list,\n",
    "              y_label=None, y_tickslabel=None, ylims=y2_lims, xlims=x2_lims, point=points[i], color=colors[1])\n",
    "\n",
    "for i in range(3):\n",
    "    polt_line(axes=all_axes_1[2], x=x3, y=data_auc_sizeNum[i], label=labels[i][0], x_label=x3_label, x_tickslabel=x3_ticks_list,\n",
    "              y_label=None, y_tickslabel=None, ylims=y3_lims, xlims=x3_lims, point=points[i], color=colors[2])\n",
    "    polt_line(axes=all_axes_1[2], x=x3, y=data_ap_sizeNum[i], label=labels[i][1], x_label=x3_label, x_tickslabel=x3_ticks_list,\n",
    "              y_label=None, y_tickslabel=None, ylims=y3_lims, xlims=x3_lims, point=points[i], color=colors[1])\n",
    "\n",
    "plt.tight_layout(pad=1.5, h_pad=0.18, w_pad=0.26, rect=None)\n",
    "plt.subplots_adjust(top=1, bottom=0.16, hspace=0.12, wspace=0.35)\n",
    "\n",
    "all_axes_1[0].legend(bbox_to_anchor=(0.4, -0.7, 2.0, .35), loc='best',\n",
    "                     ncol=3, mode=\"\", borderaxespad=0., prop=font_leng, labelspacing=1.1)\n",
    "plt.savefig('image/line-multi.pdf', bbox_inches='tight')\n",
    "\n",
    "plt.show()"
   ]
  },
  {
   "cell_type": "code",
   "execution_count": null,
   "id": "3818e0fe",
   "metadata": {},
   "outputs": [],
   "source": []
  },
  {
   "cell_type": "code",
   "execution_count": null,
   "id": "eab296c6",
   "metadata": {},
   "outputs": [],
   "source": []
  }
 ],
 "metadata": {
  "kernelspec": {
   "display_name": "PyCharm (gclp)",
   "language": "python",
   "name": "pycharm-dd40013f"
  },
  "language_info": {
   "codemirror_mode": {
    "name": "ipython",
    "version": 3
   },
   "file_extension": ".py",
   "mimetype": "text/x-python",
   "name": "python",
   "nbconvert_exporter": "python",
   "pygments_lexer": "ipython3",
   "version": "3.7.11"
  },
  "latex_envs": {
   "LaTeX_envs_menu_present": true,
   "autoclose": false,
   "autocomplete": true,
   "bibliofile": "biblio.bib",
   "cite_by": "apalike",
   "current_citInitial": 1,
   "eqLabelWithNumbers": true,
   "eqNumInitial": 1,
   "hotkeys": {
    "equation": "Ctrl-E",
    "itemize": "Ctrl-I"
   },
   "labels_anchors": false,
   "latex_user_defs": false,
   "report_style_numbering": false,
   "user_envs_cfg": false
  },
  "nbTranslate": {
   "displayLangs": [
    "*"
   ],
   "hotkey": "alt-t",
   "langInMainMenu": true,
   "sourceLang": "en",
   "targetLang": "fr",
   "useGoogleTranslate": true
  },
  "pycharm": {
   "stem_cell": {
    "cell_type": "raw",
    "metadata": {
     "collapsed": false
    },
    "source": []
   }
  },
  "toc": {
   "base_numbering": 1,
   "nav_menu": {
    "height": "215px",
    "width": "213px"
   },
   "number_sections": true,
   "sideBar": true,
   "skip_h1_title": false,
   "title_cell": "Table of Contents",
   "title_sidebar": "Contents",
   "toc_cell": false,
   "toc_position": {},
   "toc_section_display": true,
   "toc_window_display": false
  }
 },
 "nbformat": 4,
 "nbformat_minor": 5
}
